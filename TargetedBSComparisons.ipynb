{
 "cells": [
  {
   "cell_type": "markdown",
   "metadata": {},
   "source": [
    "# Targeted Bisulfite Sequencing Analysis\n",
    "- GSE15923 Comparison of Methylation Capture Sequencing and Infinium EPIC Methylation Array in Peripheral Blood Mononuclear Cells\n",
    "- Four individuals\n",
    "    - blood mononuclear cells\n",
    "    - input libraries prepared at >1000ng, 300-1000ng, <300ng\n",
    "    - SureSlectXT Methyl-Seq (Aligent) kit\n",
    "    - Illumina Epic Array Measurements for all samples"
   ]
  },
  {
   "cell_type": "markdown",
   "metadata": {},
   "source": [
    "### Notebook Setup"
   ]
  },
  {
   "cell_type": "code",
   "execution_count": 1,
   "metadata": {},
   "outputs": [],
   "source": [
    "from collections import Counter\n",
    "import gzip\n",
    "import io\n",
    "import os\n",
    "import pickle\n",
    "import subprocess\n",
    "\n",
    "import joblib\n",
    "from matplotlib import rc\n",
    "import matplotlib.gridspec as gridspec\n",
    "import matplotlib.pyplot as plt\n",
    "import numpy as np\n",
    "import pandas as pd\n",
    "import scipy.stats as scistats\n",
    "import seaborn as sns\n",
    "from tqdm.notebook import tqdm"
   ]
  },
  {
   "cell_type": "markdown",
   "metadata": {},
   "source": [
    "### Retrieve Sample Data"
   ]
  },
  {
   "cell_type": "code",
   "execution_count": 3,
   "metadata": {},
   "outputs": [],
   "source": [
    "base_dir = '~/BSBolt_Paper/real_data_comps/'"
   ]
  },
  {
   "cell_type": "code",
   "execution_count": 2,
   "metadata": {},
   "outputs": [],
   "source": [
    "wgbs_comp_data = pd.read_csv(f'{base_dir}SraRunTable.txt', sep=',', index_col=0, header=0).T.to_dict()"
   ]
  },
  {
   "cell_type": "code",
   "execution_count": 4,
   "metadata": {},
   "outputs": [],
   "source": [
    "output_dir = '~/BSBolt_Paper/real_data_comps/' "
   ]
  },
  {
   "cell_type": "code",
   "execution_count": 5,
   "metadata": {},
   "outputs": [],
   "source": [
    "fastq_dir = f'{base_dir}fastqs/'"
   ]
  },
  {
   "cell_type": "code",
   "execution_count": 6,
   "metadata": {},
   "outputs": [],
   "source": [
    "stats_dir = os.getcwd() + '/run_stats/'"
   ]
  },
  {
   "cell_type": "code",
   "execution_count": 7,
   "metadata": {},
   "outputs": [],
   "source": [
    "alignment_dir = f'{output_dir}alignments/'"
   ]
  },
  {
   "cell_type": "markdown",
   "metadata": {},
   "source": [
    "## Format Series Matrix Data"
   ]
  },
  {
   "cell_type": "code",
   "execution_count": 8,
   "metadata": {},
   "outputs": [],
   "source": [
    "epic_manifest = f'{base_dir}/infinium-methylationepic-v-1-0-b5-manifest-file.csv.gz'"
   ]
  },
  {
   "cell_type": "code",
   "execution_count": 9,
   "metadata": {},
   "outputs": [
    {
     "data": {
      "application/vnd.jupyter.widget-view+json": {
       "model_id": "f32eacf54f4641049b5d2670a00d5d38",
       "version_major": 2,
       "version_minor": 0
      },
      "text/plain": [
       "HBox(children=(FloatProgress(value=1.0, bar_style='info', max=1.0), HTML(value='')))"
      ]
     },
     "metadata": {},
     "output_type": "display_data"
    },
    {
     "name": "stdout",
     "output_type": "stream",
     "text": [
      "\n"
     ]
    }
   ],
   "source": [
    "epic_sites = {}\n",
    "\n",
    "with io.BufferedReader(gzip.open(epic_manifest, 'rb')) as manifest:\n",
    "    header = False\n",
    "    for line in tqdm(manifest):\n",
    "        processed_line = line.decode().strip().split(',')\n",
    "        illumina_id = processed_line[0]\n",
    "        if not header:\n",
    "            if processed_line[0] == 'IlmnID':\n",
    "                header = True\n",
    "        else:\n",
    "            # end loop when control sites are encountered\n",
    "            try:\n",
    "                illumina_id, chrom, start, end, strand = processed_line[0], processed_line[48], processed_line[49], processed_line[50], processed_line[51]\n",
    "            except IndexError as e:\n",
    "                break\n",
    "            # skip sites not mapping to hg38\n",
    "            try:\n",
    "                start, end  = int(start), int(end)\n",
    "            except ValueError as e:\n",
    "                continue\n",
    "            if strand == '-':\n",
    "                pos = end - 1\n",
    "            elif strand == '+':\n",
    "                pos = start + 1\n",
    "            epic_sites[illumina_id] = (chrom, pos, strand)"
   ]
  },
  {
   "cell_type": "code",
   "execution_count": 11,
   "metadata": {},
   "outputs": [],
   "source": [
    "epic_bed = f'{base_dir}epic_target.bed'\n",
    "if not os.path.exists(epic_bed):\n",
    "    with open(epic_bed, 'w') as out:\n",
    "        for key, value in epic_sites.items():\n",
    "            out.write(f'{value[0]}\\t{value[1]}\\t{value[1]+1}\\t{value[2]}\\t{key}\\n')"
   ]
  },
  {
   "cell_type": "code",
   "execution_count": 12,
   "metadata": {},
   "outputs": [],
   "source": [
    "reverse_epic = {f'{site[0]}:{site[1]}':ill_id for ill_id, site in epic_sites.items()}"
   ]
  },
  {
   "cell_type": "code",
   "execution_count": 13,
   "metadata": {},
   "outputs": [],
   "source": [
    "series_matrix_file = f'{base_dir}real_data_comps/array_data/GSE152923-GPL21145_series_matrix.txt.gz'"
   ]
  },
  {
   "cell_type": "code",
   "execution_count": 14,
   "metadata": {},
   "outputs": [
    {
     "data": {
      "application/vnd.jupyter.widget-view+json": {
       "model_id": "433fde2368ac4683930fb73dac0ca4ee",
       "version_major": 2,
       "version_minor": 0
      },
      "text/plain": [
       "HBox(children=(FloatProgress(value=1.0, bar_style='info', max=1.0), HTML(value='')))"
      ]
     },
     "metadata": {},
     "output_type": "display_data"
    },
    {
     "name": "stdout",
     "output_type": "stream",
     "text": [
      "\n"
     ]
    }
   ],
   "source": [
    "with io.BufferedReader(gzip.open(series_matrix_file, 'rb')) as series:\n",
    "    header = None\n",
    "    line_ids = []\n",
    "    epic_values = []\n",
    "    for line in tqdm(series):\n",
    "        processed_line = line.decode().strip().split('\\t')\n",
    "        if not header:\n",
    "            if processed_line[0].replace('\"', '') == 'ID_REF':\n",
    "                header = [sample.replace('\"', '') for sample in processed_line[1:]]\n",
    "        else:\n",
    "            illumina_id = processed_line[0].replace('\"', '')\n",
    "            if illumina_id in epic_sites:\n",
    "                line_values = []\n",
    "                good_line = True\n",
    "                for value in processed_line[1:]:\n",
    "                    try:\n",
    "                        line_values.append(float(value))\n",
    "                    except ValueError:\n",
    "                        good_line = False\n",
    "                        break\n",
    "                if good_line:\n",
    "                    epic_head = epic_sites[illumina_id]\n",
    "                    line_ids.append(f'{epic_head[0]}:{epic_head[1]}')\n",
    "                    epic_values.append(np.array(line_values))"
   ]
  },
  {
   "cell_type": "code",
   "execution_count": 15,
   "metadata": {},
   "outputs": [],
   "source": [
    "epic_df = pd.DataFrame(np.array(epic_values), columns=header, index=line_ids)"
   ]
  },
  {
   "cell_type": "code",
   "execution_count": 16,
   "metadata": {},
   "outputs": [],
   "source": [
    "for sample in wgbs_comp_data:\n",
    "    subject_index = int(wgbs_comp_data[sample]['subject']) - 1\n",
    "    wgbs_comp_data[sample]['gsm_comp'] = list(epic_df)[subject_index]"
   ]
  },
  {
   "cell_type": "markdown",
   "metadata": {},
   "source": [
    "### Get Fastq Read Info "
   ]
  },
  {
   "cell_type": "code",
   "execution_count": 17,
   "metadata": {},
   "outputs": [],
   "source": [
    "def count_lines(file, sample):\n",
    "    line_count = 0\n",
    "    with io.BufferedReader(gzip.open(file, 'rb')) as count_file:\n",
    "        for line in count_file:\n",
    "            line_count += 1\n",
    "    return sample, line_count / 4"
   ]
  },
  {
   "cell_type": "code",
   "execution_count": 18,
   "metadata": {},
   "outputs": [],
   "source": [
    "#read_counts = joblib.Parallel(n_jobs=12, verbose=10)(joblib.delayed(count_lines)(*[f'{fastq_dir}{sample}_1.fastq.gz', sample]) for sample in wgbs_comp_data)\n",
    "read_counts = [('SRR12063108', 138348753.0),\n",
    " ('SRR12063109', 120715237.0),\n",
    " ('SRR12063110', 180577155.0),\n",
    " ('SRR12063111', 230599701.0),\n",
    " ('SRR12063112', 129844502.0),\n",
    " ('SRR12063113', 146466192.0),\n",
    " ('SRR12063114', 126175580.0),\n",
    " ('SRR12063115', 145978110.0),\n",
    " ('SRR12063116', 134245818.0),\n",
    " ('SRR12063117', 119382239.0),\n",
    " ('SRR12063118', 140496811.0),\n",
    " ('SRR12063119', 118507931.0)]\n",
    "read_counts = {sample:count for sample, count in read_counts}"
   ]
  },
  {
   "cell_type": "code",
   "execution_count": 19,
   "metadata": {},
   "outputs": [
    {
     "name": "stdout",
     "output_type": "stream",
     "text": [
      "144278169 230599701.0 118507931.0\n"
     ]
    }
   ],
   "source": [
    "read_count_values = np.array(list(read_counts.values()))\n",
    "print(int(np.mean(read_count_values)), max(read_count_values), min(read_count_values))"
   ]
  },
  {
   "cell_type": "markdown",
   "metadata": {},
   "source": [
    "### Import Read Stats"
   ]
  },
  {
   "cell_type": "code",
   "execution_count": 20,
   "metadata": {},
   "outputs": [],
   "source": [
    "def load_run_stats(stats_dir, sample_name, tool):\n",
    "    if os.path.exists(f'{stats_dir}{sample_name}_{tool}_2_alignment_node_stats.pkl'):\n",
    "        with open(f'{stats_dir}{sample_name}_{tool}_2_alignment_node_stats.pkl', 'rb') as ns:\n",
    "            node_stats = pickle.load(ns)\n",
    "    else:\n",
    "        node_stats = {}\n",
    "    with open(f'{stats_dir}{sample_name}_{tool}_2_alignment_stats.pkl', 'rb') as aln_sts:\n",
    "        align_stats = pickle.load(aln_sts)\n",
    "    with open(f'{stats_dir}{sample_name}_{tool}_2_meth_call_stats.pkl', 'rb') as mc_sts:\n",
    "        call_stats = pickle.load(mc_sts)\n",
    "    return node_stats, align_stats, call_stats"
   ]
  },
  {
   "cell_type": "code",
   "execution_count": 21,
   "metadata": {},
   "outputs": [],
   "source": [
    "tool_names = {'biscuit': 'BISCUIT', 'bwa_meth': 'BWA-Meth', 'BSBolt':'BSBolt', 'bismark':'Bismark', 'bsseeker':'BSSeeker2'}"
   ]
  },
  {
   "cell_type": "code",
   "execution_count": 22,
   "metadata": {},
   "outputs": [],
   "source": [
    "alignment_stats = {}\n",
    "\n",
    "for tool in ['BSBolt', 'biscuit', 'bwa_meth', 'bsseeker', 'bismark']:\n",
    "    for sample in wgbs_comp_data:\n",
    "        alignment = f'{sample}_{tool}'\n",
    "        alignment_file = f'{alignment_dir}{alignment}.dup.bam'\n",
    "        if tool == 'bismark':\n",
    "            alignment_file = f'{alignment_dir}{alignment}/{sample}_1_bismark_bt2_pe.dup.bam'\n",
    "        alignment_stats[alignment] = dict(alignment_file=alignment_file, tool=tool, PairedEndReads=read_counts[sample])\n",
    "        if os.path.exists(f'{stats_dir}{sample}_{tool}_alignment_stats.pkl'):\n",
    "            node, align, call = load_run_stats(stats_dir, sample, tool)\n",
    "            alignment_stats[alignment]['Tool'] = tool_names[tool]\n",
    "            alignment_stats[alignment]['meth_call_time'] = call[0]\n",
    "            alignment_stats[alignment].update(node)\n",
    "            if align[0]:\n",
    "                alignment_stats[alignment]['alignment_time'] = align[0]\n",
    "                alignment_stats[alignment]['alignment_complete'] = True\n",
    "            else:\n",
    "                alignment_stats[alignment]['alignment_time'] = 24 * 60 * 60 \n",
    "                alignment_stats[alignment]['alignment_complete'] = False"
   ]
  },
  {
   "cell_type": "code",
   "execution_count": 23,
   "metadata": {},
   "outputs": [],
   "source": [
    "# run samtools flagstat on each sample and parse output \n",
    "# command will fail if samtools is not on path\n",
    "def get_flagstats(sample_path, sample_name):\n",
    "    sam_stats = {}\n",
    "    sam_args = ['samtools', 'flagstat', '-@', '8', sample_path]\n",
    "    with subprocess.Popen(args=sam_args, stdout=subprocess.PIPE, universal_newlines=True) as sam_process:\n",
    "        for count, line in enumerate(iter(sam_process.stdout)):\n",
    "            if count == 0:\n",
    "                sam_stats['Total Alignments']= int(line.split(' ')[0])\n",
    "                sam_stats['Total Alignment QC-Failed'] = int(line.split(' ')[2]) \n",
    "            elif count == 1:\n",
    "                sam_stats['Secondary Alignments'] = int(line.split(' ')[0])\n",
    "                sam_stats['Secondary Alignments QC-Failed'] = int(line.split(' ')[2])\n",
    "            elif count == 2:\n",
    "                sam_stats['Supplementary Alignments']= int(line.split(' ')[0])\n",
    "                sam_stats['Supplementary Alignments QC-Failed']= int(line.split(' ')[2])\n",
    "            elif count == 3:\n",
    "                sam_stats['Duplicate Alignments']= int(line.split(' ')[0])\n",
    "                sam_stats['Duplicate Alignments QC-Failed']= int(line.split(' ')[2])\n",
    "            elif count == 4:\n",
    "                sam_stats['Mapped Alignments']= int(line.split(' ')[0])\n",
    "                sam_stats['Mapped Alignments QC-Failed']= int(line.split(' ')[2])\n",
    "            elif count == 5:\n",
    "                sam_stats['Paired in Sequencing']= int(line.split(' ')[0])\n",
    "                sam_stats['Paired in Sequencing QC-Failed']= int(line.split(' ')[2])\n",
    "            elif count == 6:\n",
    "                sam_stats['Read1']= int(line.split(' ')[0])\n",
    "                sam_stats['Read1 QC-Failed']= int(line.split(' ')[2])\n",
    "            elif count == 7:\n",
    "                sam_stats['Read2']= int(line.split(' ')[0])\n",
    "                sam_stats['Read2 QC-Failed']= int(line.split(' ')[2])\n",
    "            elif count == 8:\n",
    "                sam_stats['Properly Paired Alignments']= int(line.split(' ')[0])\n",
    "                sam_stats['Properly Paired Alignments QC-Failed']= int(line.split(' ')[2])\n",
    "            elif count == 9:\n",
    "                sam_stats['Mate Mapped']= int(line.split(' ')[0])\n",
    "                sam_stats['Mate Mapped QC-Failed']= int(line.split(' ')[2])\n",
    "            elif count == 10:\n",
    "                sam_stats['Singletons']= int(line.split(' ')[0])\n",
    "                sam_stats['Singletons QC-Failed']= int(line.split(' ')[2])\n",
    "            elif count == 11:\n",
    "                sam_stats['Mate Mapped to Different Chromosome']= int(line.split(' ')[0])\n",
    "                sam_stats['Mate Mapped to Different Chromosome QC-Failed']= int(line.split(' ')[2])\n",
    "            elif count == 12:\n",
    "                sam_stats['Mate Mapped to Different Chromosome (mapq>=5)']= int(line.split(' ')[0])\n",
    "                sam_stats['Mate Mapped to Different Chromosome (mapq>=5) QC-Failed']= int(line.split(' ')[2])\n",
    "    return sample_name, sam_stats"
   ]
  },
  {
   "cell_type": "code",
   "execution_count": 24,
   "metadata": {},
   "outputs": [],
   "source": [
    "for sample in alignment_stats:\n",
    "    alignment_stats[sample]['alignment_file'] = alignment_stats[sample]['alignment_file'].replace(base_dir, alignment_dir)"
   ]
  },
  {
   "cell_type": "code",
   "execution_count": 25,
   "metadata": {},
   "outputs": [],
   "source": [
    "if not os.path.exists(f'{base_dir}wgbs_flag_stats'):\n",
    "    flag_stats = joblib.Parallel(n_jobs=16, verbose=10)(joblib.delayed(get_flagstats)(*[sample_values['alignment_file'], sample]) for sample, sample_values in alignment_stats.items())\n",
    "    with open(f'{base_dir}wgbs_flag_stats', 'wb') as out:\n",
    "        pickle.dump(flag_stats, out)\n",
    "else:\n",
    "    with open(f'{base_dir}wgbs_flag_stats', 'rb') as fs:\n",
    "        flag_stats = pickle.load(fs)"
   ]
  },
  {
   "cell_type": "code",
   "execution_count": 26,
   "metadata": {},
   "outputs": [],
   "source": [
    "for sample, alignment_flags in flag_stats:\n",
    "    sra_id = sample.split('_')[0]\n",
    "    alignment_stats[sample].update(wgbs_comp_data[sra_id])\n",
    "    alignment_stats[sample].update(alignment_flags)"
   ]
  },
  {
   "cell_type": "markdown",
   "metadata": {},
   "source": [
    "## Methylation Call Helpers"
   ]
  },
  {
   "cell_type": "code",
   "execution_count": 27,
   "metadata": {},
   "outputs": [],
   "source": [
    "def open_methylation_file(methylation_file, tool='BSBolt'):\n",
    "    site_description = {'chrom':0, 'pos':2, 'meth_cyto':6, 'total_cyto':7}\n",
    "    if tool == 'biscuit':\n",
    "        site_description = {'chrom':0, 'pos':1, 'beta':3, 'total_cyto':4}\n",
    "    elif tool == 'bwa_meth':\n",
    "        site_description = {'chrom':0, 'pos':1, 'meth_cyto':4, 'unmeth_cyto':5}\n",
    "    elif tool == 'bismark':\n",
    "        site_description = {'chrom':0, 'pos':1, 'meth_cyto':3, 'unmeth_cyto':4}\n",
    "    with open(methylation_file, 'r') as meth:\n",
    "        for site in meth:\n",
    "            site_split = site.strip().split('\\t')\n",
    "            f_values = {key:None for key in site_description.keys()}\n",
    "            try:\n",
    "                for key, value in site_description.items():\n",
    "                    f_values[key] = site_split[value]\n",
    "            except IndexError as e:\n",
    "                print(site_split)\n",
    "                raise e\n",
    "            yield f_values"
   ]
  },
  {
   "cell_type": "code",
   "execution_count": 28,
   "metadata": {},
   "outputs": [],
   "source": [
    "def get_formatted_methylation(methylation_file, tool='BSBolt'):\n",
    "    # chrom, site, converted, total_bases\n",
    "    formatted_methylation_calls = {}\n",
    "    for line in open_methylation_file(methylation_file, tool):\n",
    "        # chrom, pos, meth_cyto, unmeth_cyto\n",
    "        formatted_line = [line['chrom']]\n",
    "        if tool == 'biscuit':\n",
    "            formatted_line.append(int(line['pos']))\n",
    "            meth_cyto = int(round(float(line['beta']) * float(line['total_cyto'])))\n",
    "            unmeth_cyto = int(line['total_cyto']) - meth_cyto\n",
    "            formatted_line.extend([meth_cyto, unmeth_cyto])\n",
    "        elif tool == 'BSBolt' or tool == 'bsseeker':\n",
    "            formatted_line.append(int(line['pos']) - 1)\n",
    "            formatted_line.append(int(line['meth_cyto']))\n",
    "            formatted_line.append(int(line['total_cyto']) - int(line['meth_cyto']))\n",
    "        elif tool == 'bwa_meth':\n",
    "            # skip header lines\n",
    "            try:\n",
    "                formatted_line.append(int(line['pos']))\n",
    "            except ValueError:\n",
    "                continue\n",
    "            formatted_line.append(int(line['meth_cyto']))\n",
    "            formatted_line.append(int(line['unmeth_cyto']))\n",
    "        elif tool == 'bismark':\n",
    "            # skip header lines\n",
    "            formatted_line.append(int(line['pos']) - 1)\n",
    "            formatted_line.append(int(line['meth_cyto']))\n",
    "            formatted_line.append(int(line['unmeth_cyto']))\n",
    "        assert len(formatted_line) == 4\n",
    "        if formatted_line[2] + formatted_line[3] >= 5:\n",
    "            formatted_methylation_calls[f'{formatted_line[0]}:{formatted_line[1]}'] = (formatted_line[2], formatted_line[3])\n",
    "    return formatted_methylation_calls"
   ]
  },
  {
   "cell_type": "code",
   "execution_count": 29,
   "metadata": {},
   "outputs": [],
   "source": [
    "for alignment_label in alignment_stats:\n",
    "    alignment_out = alignment_stats[alignment_label]['alignment_file'].replace('.bam', '')\n",
    "    tool = alignment_stats[alignment_label]['tool']\n",
    "    call_file = f'{alignment_out}.bam.meth_out.CGmap'\n",
    "    if tool == 'bsseeker':\n",
    "        call_file = f'{alignment_out}.bam.meth_out'\n",
    "    elif tool == 'bwa_meth':\n",
    "        call_file = f'{alignment_out}.methylation.txt'\n",
    "    elif tool == 'biscuit':\n",
    "        call_file = f'{alignment_out}.bam.meth_out_biscuit_out'\n",
    "    elif tool == 'bismark':\n",
    "        call_label = alignment_out.replace('.dup', '').split('/')[-1]\n",
    "        call_file = f'{alignment_out.replace(\".dup\", \"\")}.name.bam.meth_out/{call_label}.name.CpG_report.txt'\n",
    "    alignment_stats[alignment_label]['call_file'] = call_file"
   ]
  },
  {
   "cell_type": "code",
   "execution_count": 30,
   "metadata": {},
   "outputs": [],
   "source": [
    "def check_file(file_path):\n",
    "    if not os.path.exists(file_path):\n",
    "        return 1\n",
    "    if os.path.getsize(file_path) < 100:\n",
    "        return 1\n",
    "    return 0"
   ]
  },
  {
   "cell_type": "code",
   "execution_count": 31,
   "metadata": {},
   "outputs": [],
   "source": [
    "incomplete_samples = set()\n",
    "\n",
    "for label, values in alignment_stats.items():\n",
    "    if check_file(values['call_file']):\n",
    "        incomplete_samples.add(label)\n",
    "        print(label, values['call_file'])"
   ]
  },
  {
   "cell_type": "markdown",
   "metadata": {},
   "source": [
    "## Compare Alignment Calls to Array Calls"
   ]
  },
  {
   "cell_type": "code",
   "execution_count": 32,
   "metadata": {},
   "outputs": [],
   "source": [
    "alignment_stats = {key: value for key, value in alignment_stats.items() if key not in incomplete_samples}"
   ]
  },
  {
   "cell_type": "code",
   "execution_count": 33,
   "metadata": {},
   "outputs": [],
   "source": [
    "def get_comparison_data(sra_id, comp_data, comp_df):\n",
    "    return comp_df[comp_data[sra_id]['gsm_comp']].to_dict()"
   ]
  },
  {
   "cell_type": "code",
   "execution_count": 34,
   "metadata": {},
   "outputs": [],
   "source": [
    "def assess_methylation_call(call_file, tool, array_info, call_label):\n",
    "    calls = get_formatted_methylation(call_file, tool)\n",
    "    unshared_calls = 0 \n",
    "    shared_stats = {}\n",
    "    for call_site, call_info in calls.items():\n",
    "        if call_site in array_info:\n",
    "            array_beta = array_info[call_site]\n",
    "            call_beta = call_info[0] / (call_info[0] + call_info[1])\n",
    "            shared_stats[call_site] = [call_beta, array_beta, call_info[0] + call_info[1]]\n",
    "        else:\n",
    "            unshared_calls += 1\n",
    "    return shared_stats, unshared_calls, call_label"
   ]
  },
  {
   "cell_type": "code",
   "execution_count": 35,
   "metadata": {},
   "outputs": [],
   "source": [
    "if not os.path.exists(f'{base_dir}array_call_comps'):\n",
    "    array_call_comps = joblib.Parallel(n_jobs=16, verbose=10)(joblib.delayed(assess_methylation_call)(*[sample_values['call_file'], \n",
    "                                                                                                        sample_values['tool'], \n",
    "                                                                                                        get_comparison_data(sample.split('_')[0], wgbs_comp_data, epic_df),\n",
    "                                                                                                        sample]) \n",
    "                                                              for sample, sample_values in alignment_stats.items())\n",
    "    with open(f'{base_dir}array_call_comps', 'wb') as out:\n",
    "        pickle.dump(array_call_comps, out)\n",
    "else:\n",
    "    with open(f'{base_dir}array_call_comps', 'rb') as fs:\n",
    "        array_call_comps = pickle.load(fs)"
   ]
  },
  {
   "cell_type": "code",
   "execution_count": 36,
   "metadata": {},
   "outputs": [],
   "source": [
    "call_comps = {call[2]: (call[0], call[1]) for call in array_call_comps}"
   ]
  },
  {
   "cell_type": "code",
   "execution_count": 37,
   "metadata": {},
   "outputs": [],
   "source": [
    "c = Counter()\n",
    "\n",
    "for comp in array_call_comps:\n",
    "    c.update(comp[0].keys())"
   ]
  },
  {
   "cell_type": "code",
   "execution_count": 38,
   "metadata": {},
   "outputs": [],
   "source": [
    "consensus_sites = set()\n",
    "\n",
    "for site, count in c.items():\n",
    "    if count >= 1:\n",
    "        consensus_sites.add(site)"
   ]
  },
  {
   "cell_type": "code",
   "execution_count": 39,
   "metadata": {},
   "outputs": [],
   "source": [
    "def get_comp_beta(comp):\n",
    "    call_betas = np.array([site[0] for site in comp.values()])\n",
    "    array_betas = np.array([site[1] for site in comp.values()])\n",
    "    call_coverage = np.array([site[2] for site in comp.values()])\n",
    "    return call_betas, array_betas, call_coverage"
   ]
  },
  {
   "cell_type": "code",
   "execution_count": 40,
   "metadata": {},
   "outputs": [],
   "source": [
    "def array_comps_stats(call_betas, array_betas, call_coverage):\n",
    "    try:\n",
    "        r2 = scistats.pearsonr(call_betas, array_betas)[0]**2\n",
    "    except ValueError:\n",
    "        r2 = 0.0\n",
    "    return r2, len(comp), np.mean(abs(call_betas - array_betas)), np.std(abs(call_betas - array_betas)), np.mean(call_coverage), np.std(call_coverage)"
   ]
  },
  {
   "cell_type": "code",
   "execution_count": 41,
   "metadata": {},
   "outputs": [
    {
     "data": {
      "application/vnd.jupyter.widget-view+json": {
       "model_id": "d43bfa01d75b4bbc96be7ed6eb00d19c",
       "version_major": 2,
       "version_minor": 0
      },
      "text/plain": [
       "HBox(children=(FloatProgress(value=0.0, max=60.0), HTML(value='')))"
      ]
     },
     "metadata": {},
     "output_type": "display_data"
    },
    {
     "name": "stdout",
     "output_type": "stream",
     "text": [
      "\n"
     ]
    }
   ],
   "source": [
    "meth_call_comp_stats = {}\n",
    "dna_input = {'array_betas':np.array([]), 'call_coverage':np.array([]), 'array_seq_diff':np.array([])}\n",
    "meth_call_comp_values = {tool:{'High DNA input':dict(dna_input), 'Medium DNA input':dict(dna_input), 'Low DNA input':dict(dna_input)} for tool in tool_names}\n",
    "\n",
    "for comp in tqdm(array_call_comps):\n",
    "    array_read_coverage = None\n",
    "    stats_comp = {}\n",
    "    try:\n",
    "        sra_id, tool = comp[2].split('_')\n",
    "    except ValueError:\n",
    "        sra_id = comp[2].split('_')[0]\n",
    "        tool = 'bwa_meth'\n",
    "    for key, value in comp[0].items():\n",
    "        if key in consensus_sites:\n",
    "            stats_comp[key] = value\n",
    "    sra_input = wgbs_comp_data[sra_id]['DNA_input']\n",
    "    call_betas, array_betas, call_coverage = get_comp_beta(stats_comp)\n",
    "    \n",
    "    # save call value per dna input\n",
    "    meth_call_comp_values[tool][sra_input]['array_betas'] = np.append(meth_call_comp_values[tool][sra_input]['array_betas'], array_betas)\n",
    "    meth_call_comp_values[tool][sra_input]['call_coverage'] = np.append(meth_call_comp_values[tool][sra_input]['call_coverage'], call_coverage)\n",
    "    meth_call_comp_values[tool][sra_input]['array_seq_diff'] = np.append(meth_call_comp_values[tool][sra_input]['array_seq_diff'], array_betas - call_betas)\n",
    "    \n",
    "    # save call comp stats\n",
    "    cats = ['R2', 'CpG Number', 'MAE', 'MAE_STD', 'Mean Coverage', 'STD Coverage']\n",
    "    cleaned_comps = {cat: value for cat, value in zip(cats, array_comps_stats(call_betas, array_betas, call_coverage))}\n",
    "    cleaned_comps['tool'] = tool\n",
    "    cleaned_comps['sra'] = sra_id\n",
    "    cleaned_comps.update(wgbs_comp_data[sra_id])\n",
    "    alignment_stats[comp[2]].update(cleaned_comps)"
   ]
  },
  {
   "cell_type": "markdown",
   "metadata": {},
   "source": [
    "### Format Comparison DF"
   ]
  },
  {
   "cell_type": "code",
   "execution_count": 42,
   "metadata": {},
   "outputs": [],
   "source": [
    "for sample, run in alignment_stats.items():\n",
    "    run['QC-Failed Alignments'] = sum([value for key, value in run.items() if 'QC-Failed' in key])"
   ]
  },
  {
   "cell_type": "code",
   "execution_count": 43,
   "metadata": {},
   "outputs": [],
   "source": [
    "comp_df = pd.DataFrame(alignment_stats).T"
   ]
  },
  {
   "cell_type": "code",
   "execution_count": 44,
   "metadata": {},
   "outputs": [],
   "source": [
    "comp_df['Mapped Reads'] = comp_df['Mapped Alignments'] - comp_df['Secondary Alignments'] - comp_df['Supplementary Alignments']\n",
    "comp_df['Observed Reads'] = (comp_df['Total Alignments'] + comp_df['Total Alignment QC-Failed'] - \n",
    "                             comp_df['Secondary Alignments'] - comp_df['Secondary Alignments QC-Failed'] - \n",
    "                             comp_df['Supplementary Alignments'] -  comp_df['Supplementary Alignments QC-Failed'])\n",
    "comp_df['Unaligned Reads'] = (comp_df['PairedEndReads'] * 2) - comp_df['Mapped Reads']\n",
    "comp_df['Mappability'] = comp_df['Mapped Reads'] / (comp_df['PairedEndReads'] * 2)\n",
    "comp_df['Read Pairs Aligned / Minute'] = (comp_df['Observed Reads'] / 2) / (comp_df['alignment_time'] / 60)\n",
    "\n",
    "comp_df['Unobserved Reads'] = (comp_df['PairedEndReads'] * 2) - (comp_df['Total Alignments'] + comp_df['Total Alignment QC-Failed'] - \n",
    "                                                                 comp_df['Supplementary Alignments'] - comp_df['Supplementary Alignments QC-Failed'] - \n",
    "                                                                 comp_df['Secondary Alignments'] - comp_df['Secondary Alignments QC-Failed'])\n",
    "comp_df['Duplication Rate'] = comp_df['Duplicate Alignments'] / comp_df['Mapped Alignments']\n",
    "comp_df['Methylation Call Time (min)'] = comp_df['meth_call_time'] / 60\n",
    "comp_df['Alignment Time (hrs)'] = comp_df['alignment_time'] / 60 / 60"
   ]
  },
  {
   "cell_type": "code",
   "execution_count": 45,
   "metadata": {},
   "outputs": [],
   "source": [
    "comp_df['DNA Input'] = comp_df[['DNA_input', 'dna_input_quantity']].apply(lambda x: f'{x[0].replace(\" DNA input\", \"\")} ({x[1]})', axis=1)"
   ]
  },
  {
   "cell_type": "code",
   "execution_count": 46,
   "metadata": {},
   "outputs": [],
   "source": [
    "comp_cats = ['Tool',\n",
    " 'GEO_Accession (exp)',\n",
    " 'sra',\n",
    " 'subject',\n",
    " 'DNA Input',\n",
    " 'PairedEndReads',\n",
    " 'Mapped Reads', \n",
    " 'Unaligned Reads',\n",
    " 'Unobserved Reads',\n",
    " 'Mappability',\n",
    " 'Read Pairs Aligned / Minute',\n",
    " 'Alignment Time (hrs)',\n",
    " 'Total Alignments',\n",
    " 'Secondary Alignments',\n",
    " 'Supplementary Alignments',\n",
    " 'Duplicate Alignments',\n",
    " 'Properly Paired Alignments',\n",
    " 'QC-Failed Alignments',\n",
    " 'MAE',\n",
    " 'MAE_STD',\n",
    " 'Pearson\\'s R',\n",
    " 'Mean Coverage',\n",
    " 'STD Coverage',\n",
    " 'Methylation Call Time (min)']"
   ]
  },
  {
   "cell_type": "code",
   "execution_count": 47,
   "metadata": {},
   "outputs": [],
   "source": [
    "comp_df = comp_df[comp_cats]"
   ]
  },
  {
   "cell_type": "code",
   "execution_count": 48,
   "metadata": {},
   "outputs": [],
   "source": [
    "comp_df.columns =['Tool',\n",
    " 'GEO Accession',\n",
    " 'SRA ID',\n",
    " 'Biological Sample',\n",
    " 'DNA Input',\n",
    " 'Paired End Reads',\n",
    " 'Mapped Reads',\n",
    " 'Unaligned Reads',\n",
    " 'Unobserved Reads',\n",
    " 'Mappability',\n",
    " 'Read Pairs Aligned / Minute',\n",
    " 'Alignment Time (hrs)',\n",
    " 'Total Alignments',\n",
    " 'Secondary Alignments',\n",
    " 'Supplementary Alignments',\n",
    " 'Duplicate Alignments',\n",
    " 'Properly Paired Alignments',\n",
    " 'QC-Failed Alignments',\n",
    " 'Mean Absolute Difference (Array, Sequencing Methylation Calls)',\n",
    " 'Mean Absolute Difference Std. Dev.',\n",
    " 'Pearson\\'s R (Array, Sequencing Methylation Calls)',\n",
    " 'Mean CpG Read Coverage',\n",
    " 'Mean CpG Read Coverage Std. Dev.',\n",
    " 'Methylation Call Time (min)']"
   ]
  },
  {
   "cell_type": "markdown",
   "metadata": {},
   "source": [
    "### Plot Comparisons"
   ]
  },
  {
   "cell_type": "code",
   "execution_count": 49,
   "metadata": {},
   "outputs": [],
   "source": [
    "coverage_bins = np.array([10, 20, 30, 40, 50, 75, 100, 125, 150, 200, 300])"
   ]
  },
  {
   "cell_type": "code",
   "execution_count": 50,
   "metadata": {},
   "outputs": [],
   "source": [
    "methylation_bins = np.array([.1, .2, .3, .4, .5, .6, .7, .8, .9])"
   ]
  },
  {
   "cell_type": "code",
   "execution_count": 51,
   "metadata": {},
   "outputs": [],
   "source": [
    "sns.set(palette=\"Paired\", style='white')\n",
    "plt.rcParams['legend.title_fontsize'] = 26\n",
    "plt.rcParams['xtick.labelsize'] = 26\n",
    "plt.rcParams['ytick.labelsize'] = 26\n",
    "plt.rcParams['axes.labelsize'] = 26\n",
    "plt.rcParams['legend.markerscale'] = 2\n",
    "plt.rcParams['legend.fontsize'] = 22"
   ]
  },
  {
   "cell_type": "code",
   "execution_count": 52,
   "metadata": {},
   "outputs": [],
   "source": [
    "## format_coverages\n",
    "\n",
    "array_diff = np.array([])\n",
    "coverage = np.array([])\n",
    "coverage_tools = []\n",
    "\n",
    "for tool, tool_label in tool_names.items():\n",
    "    for input_amount in ['High', 'Medium', 'Low']:\n",
    "        array_diff = np.append(array_diff, abs(meth_call_comp_values[tool][f'{input_amount} DNA input']['array_seq_diff']))\n",
    "        coverage = np.append(coverage, meth_call_comp_values[tool][f'{input_amount} DNA input']['call_coverage'])\n",
    "        coverage_tools.extend([tool_label for _ in range(len(meth_call_comp_values[tool][f'{input_amount} DNA input']['call_coverage']))])"
   ]
  },
  {
   "cell_type": "code",
   "execution_count": 53,
   "metadata": {},
   "outputs": [
    {
     "data": {
      "text/plain": [
       "{'BISCUIT', 'BSBolt', 'BSSeeker2', 'BWA-Meth', 'Bismark'}"
      ]
     },
     "execution_count": 53,
     "metadata": {},
     "output_type": "execute_result"
    }
   ],
   "source": [
    "set(coverage_tools)"
   ]
  },
  {
   "cell_type": "code",
   "execution_count": 54,
   "metadata": {},
   "outputs": [
    {
     "data": {
      "image/png": "[encoded data removed]",
      "text/plain": [
       "<Figure size 1728x1728 with 3 Axes>"
      ]
     },
     "metadata": {},
     "output_type": "display_data"
    }
   ],
   "source": [
    "# plot the model results \n",
    "\n",
    "fig = plt.figure(figsize=(24,24))\n",
    "gs = gridspec.GridSpec(2, 2, figure=fig)\n",
    "\n",
    "ax1 = fig.add_subplot(gs[0, 0])\n",
    "ax2 = fig.add_subplot(gs[0, 1])\n",
    "ax3 = fig.add_subplot(gs[1, :])\n",
    "\n",
    "tool_order = ['BSBolt', 'BISCUIT', 'BWA-Meth','BSSeeker2', 'Bismark']\n",
    "\n",
    "sns.boxplot(x='Tool', y='Read Pairs Aligned / Minute', data=comp_df, ax=ax1, order=tool_order, \n",
    "            linewidth=2.5, color='white')\n",
    "sns.stripplot(x='Tool', y='Read Pairs Aligned / Minute', data=comp_df, ax=ax1, order=tool_order, \n",
    "              jitter=True, dodge=True, linewidth=0.5, color='black', s=10)\n",
    "\n",
    "\n",
    "sns.boxplot(x='Tool', y='Methylation Call Time (min)', data=comp_df, ax=ax2, order=tool_order, \n",
    "            linewidth=2.5, color='white')\n",
    "sns.stripplot(x='Tool', y='Methylation Call Time (min)', data=comp_df, ax=ax2, order=tool_order, \n",
    "            linewidth=2.5, jitter=True, dodge=True, s=10, color='black')\n",
    "\n",
    "flatui = [\"#9b59b6\", \"#34495e\", \"#e74c3c\", \"#2ecc71\", \"cyan\"]   \n",
    "cov = np.digitize(coverage, coverage_bins)\n",
    "#sns.lineplot(x=cov, y=array_diff, ax=ax3, hue=coverage_tools, hue_order=['BSBolt', 'BISCUIT', 'BWA-Meth', 'Bismark', 'BSSeeker2'], \n",
    "#             lw=2.5, palette=flatui, n_boot=1)\n",
    "sns.boxplot(x=cov, y=array_diff, ax=ax3, hue=coverage_tools, hue_order=['BSBolt', 'BISCUIT', 'BWA-Meth', 'Bismark'], \n",
    "            palette=flatui, showfliers=False)\n",
    "ax3.set_ylabel('Methylation Level Absolute Difference')\n",
    "ax3.set_xlabel('Site Read Coverage')\n",
    "ax3.set_xticks([x for x in range(max(cov) + 1)])\n",
    "ax3.set_xticklabels(['0'] +[str(x) for x in coverage_bins])\n",
    "\n",
    "\n",
    "\n",
    "#sns.boxplot(x='Tool', y='Methylation Call Time (min)', hue='Simulated Read Depth', data=plot_df, ax=ax[1,0], order=['BSBolt', 'BISCUIT', 'bwa-meth','BSSeeker2', 'Bismark'], linewidth=2.5)\n",
    "#sns.boxplot(x='Tool', y='CpG Meth Level MAE', hue='Sequencing Error', data=plot_df, ax=ax[1,1], order=['BSBolt', 'BISCUIT', 'bwa-meth','BSSeeker2', 'Bismark'], linewidth=2.5)\n",
    "ax1.text(-0.1,1, f'A', transform=ax1.transAxes, fontsize=26, weight='bold')\n",
    "ax2.text(-0.1,1, f'B', transform=ax2.transAxes, fontsize=26, weight='bold')\n",
    "ax3.text(-0.05,1, f'C', transform=ax3.transAxes, fontsize=26, weight='bold')\n",
    "\n",
    "\n",
    "ax1.set_xlabel('')\n",
    "ax2.set_xlabel('')\n",
    "\n",
    "plt.tight_layout()\n",
    "plt.savefig('Figure3.png', dpi=100)\n",
    "plt.show()"
   ]
  },
  {
   "cell_type": "markdown",
   "metadata": {},
   "source": [
    "### Export Comp Stats"
   ]
  },
  {
   "cell_type": "code",
   "execution_count": 55,
   "metadata": {},
   "outputs": [],
   "source": [
    "output_df = comp_df.copy()"
   ]
  },
  {
   "cell_type": "code",
   "execution_count": 56,
   "metadata": {},
   "outputs": [],
   "source": [
    "float_format_cats = ['Read Pairs Aligned / Minute',\n",
    " 'Alignment Time (hrs)',\n",
    " 'Mean Absolute Difference (Array, Sequencing Methylation Calls)',\n",
    " 'Mean Absolute Difference Std. Dev.',\n",
    " 'Pearson\\'s R (Array, Sequencing Methylation Calls)',\n",
    " 'Mean CpG Read Coverage',\n",
    " 'Mean CpG Read Coverage Std. Dev.',\n",
    " 'Methylation Call Time (min)']"
   ]
  },
  {
   "cell_type": "code",
   "execution_count": 57,
   "metadata": {},
   "outputs": [],
   "source": [
    "for cat in float_format_cats:\n",
    "    output_df[cat] = output_df[cat].map('{:,.2f}'.format)"
   ]
  },
  {
   "cell_type": "code",
   "execution_count": 58,
   "metadata": {},
   "outputs": [],
   "source": [
    "output_df.to_csv('WGBS_Comps.tsv', index=False, sep='\\t')"
   ]
  },
  {
   "cell_type": "markdown",
   "metadata": {},
   "source": [
    "### Compare Alignment Groupings"
   ]
  },
  {
   "cell_type": "code",
   "execution_count": 59,
   "metadata": {},
   "outputs": [],
   "source": [
    "tool_stat_cats =  ['Paired End Reads',\n",
    " 'Read Pairs Aligned / Minute',\n",
    " 'Alignment Time (hrs)',\n",
    " 'Total Alignments',\n",
    " 'Mapped Reads',\n",
    " 'Unobserved Reads',\n",
    " 'Unaligned Reads',\n",
    " 'Mappability',\n",
    " 'Secondary Alignments',\n",
    " 'Supplementary Alignments',\n",
    " 'Duplicate Alignments',\n",
    " 'Properly Paired Alignments',\n",
    " 'QC-Failed Alignments',\n",
    " 'Mean Absolute Difference (Array, Sequencing Methylation Calls)',\n",
    " 'Mean Absolute Difference Std. Dev.',\n",
    " 'Mean CpG Read Coverage',\n",
    " 'Mean CpG Read Coverage Std. Dev.',\n",
    " 'Methylation Call Time (min)']"
   ]
  },
  {
   "cell_type": "code",
   "execution_count": 60,
   "metadata": {},
   "outputs": [],
   "source": [
    "tool_stats = {}\n",
    "\n",
    "for tool in set(tool_names.values()):\n",
    "    tool_df = comp_df.loc[comp_df['Tool'] == tool]\n",
    "    for dna_input in ['High (>1000ng)', 'Medium (300-1000ng)', 'Low (<300ng)']:\n",
    "        input_df = tool_df.loc[tool_df['DNA Input'] == dna_input]\n",
    "        stats = input_df[tool_stat_cats].mean(axis=0).to_dict()\n",
    "        stats['DNA Input'] = dna_input\n",
    "        tool_stats[f'{tool} {dna_input}'] = stats\n",
    "    stats = tool_df[tool_stat_cats].mean(axis=0).to_dict()\n",
    "    stats['DNA Input'] = 'All'\n",
    "    tool_stats[f'{tool}  All'] = stats"
   ]
  },
  {
   "cell_type": "code",
   "execution_count": 61,
   "metadata": {},
   "outputs": [],
   "source": [
    "tool_stats_df = pd.DataFrame(tool_stats).T"
   ]
  },
  {
   "cell_type": "code",
   "execution_count": 62,
   "metadata": {},
   "outputs": [],
   "source": [
    "all_tool = tool_stats_df.loc[tool_stats_df['DNA Input'] == 'All']"
   ]
  },
  {
   "cell_type": "code",
   "execution_count": 63,
   "metadata": {},
   "outputs": [],
   "source": [
    "tool_stats_df.to_csv('targeted_bs_stats.tsv', sep='\\t')"
   ]
  }
 ],
 "metadata": {
  "kernelspec": {
   "display_name": "Python 3",
   "language": "python",
   "name": "python3"
  },
  "language_info": {
   "codemirror_mode": {
    "name": "ipython",
    "version": 3
   },
   "file_extension": ".py",
   "mimetype": "text/x-python",
   "name": "python",
   "nbconvert_exporter": "python",
   "pygments_lexer": "ipython3",
   "version": "3.7.2"
  }
 },
 "nbformat": 4,
 "nbformat_minor": 4
}
