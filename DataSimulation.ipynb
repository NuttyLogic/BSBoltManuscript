{
 "cells": [
  {
   "cell_type": "markdown",
   "metadata": {},
   "source": [
    "# Bisulfite Sequencing Simulation \n",
    "## Simulations performed with BSBolt v1.3.4"
   ]
  },
  {
   "cell_type": "code",
   "execution_count": 1,
   "metadata": {},
   "outputs": [],
   "source": [
    "import gzip\n",
    "import io\n",
    "import os\n",
    "import pickle\n",
    "import random\n",
    "import subprocess\n",
    "\n",
    "import joblib\n",
    "from tqdm.notebook import tqdm"
   ]
  },
  {
   "cell_type": "code",
   "execution_count": 2,
   "metadata": {},
   "outputs": [],
   "source": [
    "wd = os.getcwd() + '/'"
   ]
  },
  {
   "cell_type": "code",
   "execution_count": 3,
   "metadata": {},
   "outputs": [],
   "source": [
    "hg38_fasta = f'~/hg38_lambda.fa.gz'"
   ]
  },
  {
   "cell_type": "code",
   "execution_count": 4,
   "metadata": {},
   "outputs": [
    {
     "data": {
      "application/vnd.jupyter.widget-view+json": {
       "model_id": "f42cf2264bc34248991a11e07b4ad5db",
       "version_major": 2,
       "version_minor": 0
      },
      "text/plain": [
       "HBox(children=(FloatProgress(value=1.0, bar_style='info', max=1.0), HTML(value='')))"
      ]
     },
     "metadata": {},
     "output_type": "display_data"
    },
    {
     "name": "stdout",
     "output_type": "stream",
     "text": [
      "\n"
     ]
    }
   ],
   "source": [
    "# import hg38 sequence\n",
    "\n",
    "hg38 = {}\n",
    "\n",
    "with io.BufferedReader(gzip.open(hg38_fasta, 'rb')) as fasta:\n",
    "    chrom_seq = []\n",
    "    chrom = None\n",
    "    for b_line in tqdm(fasta):\n",
    "        line = b_line.decode('utf-8')\n",
    "        if '>' in line:\n",
    "            if chrom:\n",
    "                hg38[chrom] = chrom_seq\n",
    "            chrom = line.strip().replace('>', '')\n",
    "        else:\n",
    "            chrom_seq.append(line.strip())\n",
    "    hg38[chrom] = chrom_seq"
   ]
  },
  {
   "cell_type": "code",
   "execution_count": null,
   "metadata": {},
   "outputs": [],
   "source": [
    "# take 2,000,000 BP from each chromosome\n",
    "\n",
    "chunk_size = len(hg38['chr1'][0])\n",
    "simulation_genome = {}\n",
    "simulation_size = 2000000\n",
    "\n",
    "for chrom in tqdm(list(hg38.keys())):\n",
    "    if '_' in chrom or 'lambda' in chrom or 'chrM' in chrom or 'X' in chrom or 'Y' in chrom:\n",
    "        continue\n",
    "    chrom_seq = hg38[chrom]\n",
    "    simulation_seq = []\n",
    "    while len(simulation_seq) < int(simulation_size / chunk_size):\n",
    "        rand_pos = random.randint(0, len(chrom_seq) - 1)\n",
    "        random_seq = chrom_seq[rand_pos]\n",
    "        if random_seq.upper().count('N') < 10:\n",
    "            simulation_seq.append(random_seq.replace('N', '').replace('n', ''))\n",
    "    simulation_genome[chrom] = ''.join(simulation_seq)\n",
    "    \n",
    "\n",
    "        \n",
    "with open('sim_genome.fa', 'w') as sim:\n",
    "    sim.write(f'>chr1Dup\\n')\n",
    "    sim.write(f'{simulation_genome[\"chr1\"][1000:10000]}\\n')   \n",
    "    for chrom, seq in simulation_genome.items():\n",
    "        sim.write(f'>{chrom}\\n')\n",
    "        sim.write(f'{seq}\\n')    "
   ]
  },
  {
   "cell_type": "markdown",
   "metadata": {},
   "source": [
    "## Simulate Different Alignment Scenarios "
   ]
  },
  {
   "cell_type": "markdown",
   "metadata": {},
   "source": [
    "### Import simulation genome"
   ]
  },
  {
   "cell_type": "code",
   "execution_count": 6,
   "metadata": {},
   "outputs": [
    {
     "data": {
      "application/vnd.jupyter.widget-view+json": {
       "model_id": "42493f2e4b8e4794bfb20a9d0656e260",
       "version_major": 2,
       "version_minor": 0
      },
      "text/plain": [
       "HBox(children=(FloatProgress(value=1.0, bar_style='info', max=1.0), HTML(value='')))"
      ]
     },
     "metadata": {},
     "output_type": "display_data"
    },
    {
     "name": "stdout",
     "output_type": "stream",
     "text": [
      "\n"
     ]
    }
   ],
   "source": [
    "sim_genome = {}\n",
    "\n",
    "\n",
    "with open('sim_genome.fa', 'r') as fasta:\n",
    "    chrom_seq = []\n",
    "    chrom = None\n",
    "    for line in tqdm(fasta):\n",
    "        if '>' in line:\n",
    "            if chrom:\n",
    "                sim_genome[chrom] = ''.join(chrom_seq)\n",
    "                chrom_seq = []\n",
    "            chrom = line.strip().replace('>', '')\n",
    "        else:\n",
    "            chrom_seq.append(line.strip())\n",
    "    sim_genome[chrom] = ''.join(chrom_seq)\n"
   ]
  },
  {
   "cell_type": "markdown",
   "metadata": {},
   "source": [
    "## Generate Simulation Profile for Bisulfite Sequencing Reads"
   ]
  },
  {
   "cell_type": "code",
   "execution_count": 4,
   "metadata": {},
   "outputs": [],
   "source": [
    "sim_out = '~/BSBolt_Paper/simulated_reads/'"
   ]
  },
  {
   "cell_type": "code",
   "execution_count": 5,
   "metadata": {},
   "outputs": [],
   "source": [
    "simulation_base = ['python3', '-m', 'BSBolt', 'Simulate']"
   ]
  },
  {
   "cell_type": "code",
   "execution_count": 6,
   "metadata": {},
   "outputs": [],
   "source": [
    "def log_output(log):\n",
    "    assert isinstance(log, list)\n",
    "    def run_func(func):\n",
    "        def inner(*args, **kwargs):\n",
    "            output = func(*args, **kwargs)\n",
    "            log.append(args[1])\n",
    "            return output\n",
    "        return inner\n",
    "    return run_func"
   ]
  },
  {
   "cell_type": "code",
   "execution_count": 7,
   "metadata": {},
   "outputs": [],
   "source": [
    "sim_log = []"
   ]
  },
  {
   "cell_type": "code",
   "execution_count": 8,
   "metadata": {},
   "outputs": [],
   "source": [
    "@log_output(sim_log)\n",
    "def simulate_reads(simulation_command, output_dir):\n",
    "    subprocess.run(['mkdir', '-p', output_dir])\n",
    "    sim_command = subprocess.run(simulation_command)\n",
    "    if sim_command.returncode:\n",
    "        print('Simulation Error')"
   ]
  },
  {
   "cell_type": "code",
   "execution_count": 9,
   "metadata": {},
   "outputs": [],
   "source": [
    "sim_commands = []"
   ]
  },
  {
   "cell_type": "markdown",
   "metadata": {},
   "source": [
    "#### Paired End Directional "
   ]
  },
  {
   "cell_type": "code",
   "execution_count": 10,
   "metadata": {},
   "outputs": [],
   "source": [
    "for read_length in [50,100,150]:\n",
    "    command = []\n",
    "    command.append(list(simulation_base) + ['-O', f'{sim_out}pe_directional_{read_length}/sim', '-PE', '-RL', f'{read_length}', \n",
    "                             '-RD', '20', '-MR', '0.005', '-SE', '0.005', '-overwrite',\n",
    "                             '-G', f'{wd}sim_genome.fa'])\n",
    "    command.append(f'{sim_out}pe_directional_{read_length}')\n",
    "    sim_commands.append(command)"
   ]
  },
  {
   "cell_type": "markdown",
   "metadata": {},
   "source": [
    "#### Single End Directional "
   ]
  },
  {
   "cell_type": "code",
   "execution_count": 11,
   "metadata": {},
   "outputs": [],
   "source": [
    "for read_length in [50,100,150]:\n",
    "    command = []\n",
    "    command.append(list(simulation_base) + ['-O', f'{sim_out}se_directional_{read_length}/sim', '-RL', f'{read_length}', \n",
    "                             '-RD', '20', '-MR', '0.005', '-SE', '0.005', '-overwrite',\n",
    "                             '-G', f'{wd}sim_genome.fa'])\n",
    "    command.append(f'{sim_out}se_directional_{read_length}')\n",
    "    sim_commands.append(command)"
   ]
  },
  {
   "cell_type": "markdown",
   "metadata": {},
   "source": [
    "#### Paired End Undirectional "
   ]
  },
  {
   "cell_type": "code",
   "execution_count": 12,
   "metadata": {},
   "outputs": [],
   "source": [
    "for read_length in [50,100,150]: \n",
    "    command = []\n",
    "    pe_u = list(simulation_base) +  ['-O', f'{sim_out}pe_undirectional_{read_length}/sim', '-PE', '-RL', f'{read_length}', \n",
    "                                         '-RD', '30', '-MR', '0.005', '-SE', '0.005', '-overwrite',\n",
    "                                        '-G', f'{wd}sim_genome.fa', '-U']\n",
    "    command.append(pe_u)\n",
    "    command.append(f'{sim_out}pe_undirectional_{read_length}')\n",
    "    sim_commands.append(command)"
   ]
  },
  {
   "cell_type": "markdown",
   "metadata": {},
   "source": [
    "## Single End Undirectional "
   ]
  },
  {
   "cell_type": "code",
   "execution_count": 13,
   "metadata": {},
   "outputs": [],
   "source": [
    "for read_length in [50,100,150]: \n",
    "    command = []\n",
    "    pe_u = list(simulation_base) +  ['-O', f'{sim_out}se_undirectional_{read_length}/sim', '-RL', f'{read_length}', \n",
    "                                         '-RD', '30', '-MR', '0.005', '-SE', '0.005', '-overwrite',\n",
    "                                        '-G', f'{wd}sim_genome.fa', '-U']\n",
    "    command.append(pe_u)\n",
    "    command.append(f'{sim_out}se_undirectional_{read_length}')\n",
    "    sim_commands.append(command)"
   ]
  },
  {
   "cell_type": "markdown",
   "metadata": {},
   "source": [
    "### Simulate Low Coverage PE Library"
   ]
  },
  {
   "cell_type": "code",
   "execution_count": 15,
   "metadata": {},
   "outputs": [],
   "source": [
    "for read_length in [50,100,150]:\n",
    "    command = []\n",
    "    command.append(list(simulation_base) + ['-O', f'{sim_out}pe_low_coverage_directional_{read_length}/sim', '-RL', f'{read_length}', \n",
    "                             '-RD', '8', '-MR', '0.005', '-SE', '0.005', '-overwrite', '-PE',\n",
    "                             '-G', f'{wd}sim_genome.fa'])\n",
    "    command.append(f'{sim_out}pe_low_coverage_directional_{read_length}')\n",
    "    sim_commands.append(command)"
   ]
  },
  {
   "cell_type": "markdown",
   "metadata": {},
   "source": [
    "### Simulate Low Coverage SE Library"
   ]
  },
  {
   "cell_type": "code",
   "execution_count": 16,
   "metadata": {},
   "outputs": [],
   "source": [
    "for read_length in [50,100,150]:\n",
    "    command = []\n",
    "    command.append(list(simulation_base) + ['-O', f'{sim_out}se_low_coverage_directional_{read_length}/sim', '-RL', f'{read_length}', \n",
    "                             '-RD', '8', '-MR', '0.005', '-SE', '0.005', '-overwrite',\n",
    "                             '-G', f'{wd}sim_genome.fa'])\n",
    "    command.append(f'{sim_out}se_low_coverage_directional_{read_length}')\n",
    "    sim_commands.append(command)"
   ]
  },
  {
   "cell_type": "markdown",
   "metadata": {},
   "source": [
    "### Simulate Low Coverage High Mutation Rate / Sequencing Error Library"
   ]
  },
  {
   "cell_type": "code",
   "execution_count": 17,
   "metadata": {},
   "outputs": [],
   "source": [
    "for read_length in [50,100,150]:\n",
    "    command = []\n",
    "    command.append(list(simulation_base) + ['-O', f'{sim_out}pe_error_directional_{read_length}/sim', '-RL', f'{read_length}', \n",
    "                             '-RD', '8', '-MR', '0.01', '-SE', '0.02', '-overwrite', '-PE',\n",
    "                             '-G', f'{wd}sim_genome.fa'])\n",
    "    command.append(f'{sim_out}pe_error_directional_{read_length}')\n",
    "    sim_commands.append(command)"
   ]
  },
  {
   "cell_type": "markdown",
   "metadata": {},
   "source": [
    "## Simulate Reads"
   ]
  },
  {
   "cell_type": "code",
   "execution_count": 18,
   "metadata": {},
   "outputs": [
    {
     "name": "stderr",
     "output_type": "stream",
     "text": [
      "[Parallel(n_jobs=16)]: Using backend LokyBackend with 16 concurrent workers.\n",
      "[Parallel(n_jobs=16)]: Done   3 out of  22 | elapsed: 20.4min remaining: 129.1min\n",
      "[Parallel(n_jobs=16)]: Done   6 out of  22 | elapsed: 41.2min remaining: 109.9min\n",
      "[Parallel(n_jobs=16)]: Done   9 out of  22 | elapsed: 48.3min remaining: 69.8min\n",
      "[Parallel(n_jobs=16)]: Done  12 out of  22 | elapsed: 60.0min remaining: 50.0min\n",
      "[Parallel(n_jobs=16)]: Done  15 out of  22 | elapsed: 69.6min remaining: 32.5min\n",
      "[Parallel(n_jobs=16)]: Done  18 out of  22 | elapsed: 101.3min remaining: 22.5min\n",
      "[Parallel(n_jobs=16)]: Done  22 out of  22 | elapsed: 138.9min finished\n"
     ]
    },
    {
     "data": {
      "text/plain": [
       "[None,\n",
       " None,\n",
       " None,\n",
       " None,\n",
       " None,\n",
       " None,\n",
       " None,\n",
       " None,\n",
       " None,\n",
       " None,\n",
       " None,\n",
       " None,\n",
       " None,\n",
       " None,\n",
       " None,\n",
       " None,\n",
       " None,\n",
       " None,\n",
       " None,\n",
       " None,\n",
       " None,\n",
       " None]"
      ]
     },
     "execution_count": 18,
     "metadata": {},
     "output_type": "execute_result"
    }
   ],
   "source": [
    "joblib.Parallel(n_jobs=16, verbose=10)(joblib.delayed(simulate_reads)(*cmd) for cmd in sim_commands)"
   ]
  }
 ],
 "metadata": {
  "kernelspec": {
   "display_name": "Python 3",
   "language": "python",
   "name": "python3"
  },
  "language_info": {
   "codemirror_mode": {
    "name": "ipython",
    "version": 3
   },
   "file_extension": ".py",
   "mimetype": "text/x-python",
   "name": "python",
   "nbconvert_exporter": "python",
   "pygments_lexer": "ipython3",
   "version": "3.7.2"
  }
 },
 "nbformat": 4,
 "nbformat_minor": 4
}
